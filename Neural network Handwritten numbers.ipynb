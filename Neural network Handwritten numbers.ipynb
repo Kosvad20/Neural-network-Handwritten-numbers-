{
 "cells": [
  {
   "cell_type": "code",
   "execution_count": 1,
   "metadata": {},
   "outputs": [],
   "source": [
    "import numpy as np\n",
    "import math\n",
    "import scipy\n",
    "import scipy.special\n",
    "\n",
    "def sigmoid(x):\n",
    "    return 1 / (1 + math.e ** -x)\n",
    "\n",
    "### Read files fro test and train\n",
    "data_test, data_train = [],[]\n",
    "\n",
    "file_test = open(r\"C:\\Users\\kosva\\Desktop\\Git1\\mnist\\mnist_test.csv\", 'r')\n",
    "for line in file_test: data_test.append([int(i) for i in line.split(',')])\n",
    "file_test.close()\n",
    "\n",
    "\n",
    "file_train = open(r\"C:\\Users\\kosva\\Desktop\\Git1\\mnist\\mnist_train.csv\", 'r')\n",
    "for line in file_train: data_train.append([int(i) for i in line.split(',')])\n",
    "file_train.close()"
   ]
  },
  {
   "cell_type": "code",
   "execution_count": 2,
   "metadata": {},
   "outputs": [],
   "source": [
    "class NN:\n",
    "    def __init__(self, n_in, n_h, n_out, learn_rate):\n",
    "        self.n_input = n_in\n",
    "        self.n_hidden = n_h\n",
    "        self.n_output = n_out\n",
    "        self.activation_func = lambda x: scipy.special.expit(x)\n",
    "        self.Wih, self.Who = np.random.standard_normal((self.n_input, self.n_hidden)), np.random.standard_normal((self.n_hidden, self.n_output))\n",
    "        self.alfa = learn_rate\n",
    "\n",
    "        pass\n",
    "    def train(self, data_train):\n",
    "        for epoch in range(5):\n",
    "            for data in data_train:\n",
    "                input = np.array(data[1:], ndmin=2).T\n",
    "                input = input / 255\n",
    "                hidden = self.activation_func(np.dot(self.Wih.transpose(), input))\n",
    "                output = self.activation_func(np.dot(self.Who.transpose(), hidden))\n",
    "                target = np.zeros((self.n_output,1))+0.01\n",
    "                target[data[0]] = 0.99\n",
    "                error_output = target - output\n",
    "                error_hidden = np.dot(self.Who, error_output)\n",
    "                self.Who += self.alfa *np.dot((output*(1-output)*error_output), hidden.transpose()).transpose()\n",
    "                self.Wih += self.alfa *np.dot( (hidden*(1-hidden)*error_hidden), input.transpose()).transpose()\n",
    "                pass\n",
    "        pass\n",
    "    def test(self, data_test):\n",
    "        k=0\n",
    "        for data in data_test:\n",
    "            input = np.array(data[1:], ndmin=2).T\n",
    "            hidden = self.activation_func(np.dot(self.Wih.transpose(), input))\n",
    "            output = self.activation_func(np.dot(self.Who.transpose(), hidden))\n",
    "            if (np.argmax(output)==data[0]):\n",
    "                k+=1\n",
    "        print(\"Performance evaluation :\",k/len(data_test), \"%\")\n",
    "        pass\n",
    "\n"
   ]
  },
  {
   "cell_type": "code",
   "execution_count": 3,
   "metadata": {},
   "outputs": [
    {
     "name": "stdout",
     "output_type": "stream",
     "text": [
      "Performance evaluation : 0.9457 %\n"
     ]
    }
   ],
   "source": [
    "nn = NN(784, 250, 10, 0.1)\n",
    "nn.train(data_train)\n",
    "nn.test(data_test)\n"
   ]
  },
  {
   "cell_type": "code",
   "execution_count": null,
   "metadata": {},
   "outputs": [],
   "source": []
  },
  {
   "cell_type": "code",
   "execution_count": null,
   "metadata": {},
   "outputs": [],
   "source": []
  }
 ],
 "metadata": {
  "kernelspec": {
   "display_name": "Python 3",
   "language": "python",
   "name": "python3"
  },
  "language_info": {
   "codemirror_mode": {
    "name": "ipython",
    "version": 3
   },
   "file_extension": ".py",
   "mimetype": "text/x-python",
   "name": "python",
   "nbconvert_exporter": "python",
   "pygments_lexer": "ipython3",
   "version": "3.7.6"
  }
 },
 "nbformat": 4,
 "nbformat_minor": 4
}
